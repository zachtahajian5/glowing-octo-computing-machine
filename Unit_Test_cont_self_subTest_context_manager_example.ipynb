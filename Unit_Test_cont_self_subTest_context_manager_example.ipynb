{
  "nbformat": 4,
  "nbformat_minor": 0,
  "metadata": {
    "colab": {
      "provenance": [],
      "authorship_tag": "ABX9TyMr24NEBjrCR7g+o5kJOvyW",
      "include_colab_link": true
    },
    "kernelspec": {
      "name": "python3",
      "display_name": "Python 3"
    },
    "language_info": {
      "name": "python"
    }
  },
  "cells": [
    {
      "cell_type": "markdown",
      "metadata": {
        "id": "view-in-github",
        "colab_type": "text"
      },
      "source": [
        "<a href=\"https://colab.research.google.com/github/zachtahajian5/glowing-octo-computing-machine/blob/main/Unit_Test_cont_self_subTest_context_manager_example.ipynb\" target=\"_parent\"><img src=\"https://colab.research.google.com/assets/colab-badge.svg\" alt=\"Open In Colab\"/></a>"
      ]
    },
    {
      "cell_type": "code",
      "execution_count": null,
      "metadata": {
        "colab": {
          "base_uri": "https://localhost:8080/"
        },
        "id": "_-Tle9Jqb4XP",
        "outputId": "138e474d-160d-49e4-e3d2-6f117c824d65"
      },
      "outputs": [
        {
          "output_type": "stream",
          "name": "stderr",
          "text": [
            "test_division_by_ten (__main__.TestDivbyTen.test_division_by_ten) ... ok\n",
            "\n",
            "----------------------------------------------------------------------\n",
            "Ran 1 test in 0.004s\n",
            "\n",
            "OK\n"
          ]
        }
      ],
      "source": [
        "\n",
        "#we'll demo how to use Python's subTest context manager to handle tests who perform identical operations with the only difference being their parameters see: https://docs.python.org/3/library/unittest.html#subtests\n",
        "\n",
        "\n",
        "#suppose we have a function where we divide the number passed through our parameter by 10.\n",
        "\n",
        "\n",
        "\n",
        "#and we wish to perform a variety of vision tests so we make a test class using the unittest.TestCase parent structure\n",
        "\n",
        "import unittest\n",
        "\n",
        "def div_by_ten(y):\n",
        "  return y/10\n",
        "\n",
        "class TestDivbyTen(unittest.TestCase):\n",
        "  arguments = [-1,100,1000,0]\n",
        "  def test_division_by_ten(self):\n",
        "    for arg in self.arguments:\n",
        "      with self.subTest(arg=arg):\n",
        "        expected_number = arg/10\n",
        "        custom_message = f\"Expected div_by_ten{arg} to return {expected_number}\"\n",
        "        self.assertEqual(div_by_ten(arg), expected_number, custom_message)\n",
        "\n",
        "if __name__ == \"__main__\":\n",
        "    # argv=['first-arg-is-ignored'] helps skip IPython's argv\n",
        "    # exit=False prevents raising SystemExit\n",
        "    unittest.main(argv=['first-arg-is-ignored'], exit=False, verbosity=2)"
      ]
    }
  ]
}